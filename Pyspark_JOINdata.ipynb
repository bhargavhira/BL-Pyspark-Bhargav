{
 "cells": [
  {
   "cell_type": "markdown",
   "id": "c03a7c95-2076-43a2-9dfa-b5510b5f46ce",
   "metadata": {},
   "source": [
    "Second Cell in Notebook - JOINS, Dataset Used - COVID 19 Dataset"
   ]
  },
  {
   "cell_type": "code",
   "execution_count": 2,
   "id": "041d771b-159c-4fb8-9a86-294c6c3041de",
   "metadata": {},
   "outputs": [],
   "source": [
    "##JOINS\n",
    "import pyspark\n",
    "from pyspark.sql import SparkSession\n",
    "spark = SparkSession.builder.appName(\"CovidAnalysis\").getOrCreate()\n",
    "country_wise_df = spark.read.csv(\"D:/BL_DI_DE/Database Problem/data/country_wise_latest.csv\", header=True, inferSchema=True)"
   ]
  },
  {
   "cell_type": "code",
   "execution_count": 3,
   "id": "e9532760-66e1-402a-9b7a-b85d401b5c2f",
   "metadata": {},
   "outputs": [],
   "source": [
    "##setting the csv's as dataframes\n",
    "country_df = spark.read.option(\"header\", True).option(\"inferSchema\", True).csv(\"country_wise_latest.csv\")\n",
    "clean_df = spark.read.option(\"header\", True).option(\"inferSchema\", True).csv(\"covid_19_clean_complete.csv\")"
   ]
  },
  {
   "cell_type": "code",
   "execution_count": 6,
   "id": "28febece-ff27-4e6a-a2e1-9bfe1d8c35ca",
   "metadata": {},
   "outputs": [
    {
     "name": "stdout",
     "output_type": "stream",
     "text": [
      "+-------------------+---------+------+---------+------+---------+----------+-------------+------------------+---------------------+----------------------+-------------------+-------------+-----------------+--------------------+\n",
      "|     Country/Region|Confirmed|Deaths|Recovered|Active|New cases|New deaths|New recovered|Deaths / 100 Cases|Recovered / 100 Cases|Deaths / 100 Recovered|Confirmed last week|1 week change|1 week % increase|          WHO Region|\n",
      "+-------------------+---------+------+---------+------+---------+----------+-------------+------------------+---------------------+----------------------+-------------------+-------------+-----------------+--------------------+\n",
      "|        Afghanistan|    36263|  1269|    25198|  9796|      106|        10|           18|               3.5|                69.49|                  5.04|              35526|          737|             2.07|Eastern Mediterra...|\n",
      "|            Albania|     4880|   144|     2745|  1991|      117|         6|           63|              2.95|                56.25|                  5.25|               4171|          709|             17.0|              Europe|\n",
      "|            Algeria|    27973|  1163|    18837|  7973|      616|         8|          749|              4.16|                67.34|                  6.17|              23691|         4282|            18.07|              Africa|\n",
      "|            Andorra|      907|    52|      803|    52|       10|         0|            0|              5.73|                88.53|                  6.48|                884|           23|              2.6|              Europe|\n",
      "|             Angola|      950|    41|      242|   667|       18|         1|            0|              4.32|                25.47|                 16.94|                749|          201|            26.84|              Africa|\n",
      "|Antigua and Barbuda|       86|     3|       65|    18|        4|         0|            5|              3.49|                75.58|                  4.62|                 76|           10|            13.16|            Americas|\n",
      "+-------------------+---------+------+---------+------+---------+----------+-------------+------------------+---------------------+----------------------+-------------------+-------------+-----------------+--------------------+\n",
      "only showing top 6 rows\n",
      "\n"
     ]
    }
   ],
   "source": [
    "country_df.show(6)"
   ]
  },
  {
   "cell_type": "code",
   "execution_count": 7,
   "id": "28cce360-5ccd-4be9-9527-e2f33bd9c863",
   "metadata": {},
   "outputs": [
    {
     "name": "stdout",
     "output_type": "stream",
     "text": [
      "+--------------+--------------+--------+---------+----------+---------+------+---------+------+--------------------+\n",
      "|Province/State|Country/Region|     Lat|     Long|      Date|Confirmed|Deaths|Recovered|Active|          WHO Region|\n",
      "+--------------+--------------+--------+---------+----------+---------+------+---------+------+--------------------+\n",
      "|          NULL|   Afghanistan|33.93911|67.709953|2020-01-22|        0|     0|        0|     0|Eastern Mediterra...|\n",
      "|          NULL|       Albania| 41.1533|  20.1683|2020-01-22|        0|     0|        0|     0|              Europe|\n",
      "|          NULL|       Algeria| 28.0339|   1.6596|2020-01-22|        0|     0|        0|     0|              Africa|\n",
      "|          NULL|       Andorra| 42.5063|   1.5218|2020-01-22|        0|     0|        0|     0|              Europe|\n",
      "|          NULL|        Angola|-11.2027|  17.8739|2020-01-22|        0|     0|        0|     0|              Africa|\n",
      "+--------------+--------------+--------+---------+----------+---------+------+---------+------+--------------------+\n",
      "only showing top 5 rows\n",
      "\n"
     ]
    }
   ],
   "source": [
    "clean_df.show(5)"
   ]
  },
  {
   "cell_type": "code",
   "execution_count": 8,
   "id": "760f9ba4-6f78-4db2-b84d-20be51a90f57",
   "metadata": {},
   "outputs": [
    {
     "name": "stdout",
     "output_type": "stream",
     "text": [
      "+--------------+--------------+--------+---------+----------+---------+------+---------+------+--------------------+---------+------+---------+------+---------+----------+-------------+------------------+---------------------+----------------------+-------------------+-------------+-----------------+--------------------+\n",
      "|Country/Region|Province/State|     Lat|     Long|      Date|Confirmed|Deaths|Recovered|Active|          WHO Region|Confirmed|Deaths|Recovered|Active|New cases|New deaths|New recovered|Deaths / 100 Cases|Recovered / 100 Cases|Deaths / 100 Recovered|Confirmed last week|1 week change|1 week % increase|          WHO Region|\n",
      "+--------------+--------------+--------+---------+----------+---------+------+---------+------+--------------------+---------+------+---------+------+---------+----------+-------------+------------------+---------------------+----------------------+-------------------+-------------+-----------------+--------------------+\n",
      "|   Afghanistan|          NULL|33.93911|67.709953|2020-01-22|        0|     0|        0|     0|Eastern Mediterra...|    36263|  1269|    25198|  9796|      106|        10|           18|               3.5|                69.49|                  5.04|              35526|          737|             2.07|Eastern Mediterra...|\n",
      "|       Albania|          NULL| 41.1533|  20.1683|2020-01-22|        0|     0|        0|     0|              Europe|     4880|   144|     2745|  1991|      117|         6|           63|              2.95|                56.25|                  5.25|               4171|          709|             17.0|              Europe|\n",
      "|       Algeria|          NULL| 28.0339|   1.6596|2020-01-22|        0|     0|        0|     0|              Africa|    27973|  1163|    18837|  7973|      616|         8|          749|              4.16|                67.34|                  6.17|              23691|         4282|            18.07|              Africa|\n",
      "|       Andorra|          NULL| 42.5063|   1.5218|2020-01-22|        0|     0|        0|     0|              Europe|      907|    52|      803|    52|       10|         0|            0|              5.73|                88.53|                  6.48|                884|           23|              2.6|              Europe|\n",
      "|        Angola|          NULL|-11.2027|  17.8739|2020-01-22|        0|     0|        0|     0|              Africa|      950|    41|      242|   667|       18|         1|            0|              4.32|                25.47|                 16.94|                749|          201|            26.84|              Africa|\n",
      "+--------------+--------------+--------+---------+----------+---------+------+---------+------+--------------------+---------+------+---------+------+---------+----------+-------------+------------------+---------------------+----------------------+-------------------+-------------+-----------------+--------------------+\n",
      "only showing top 5 rows\n",
      "\n"
     ]
    }
   ],
   "source": [
    "joined_df = clean_df.join(country_df, on=\"Country/Region\", how=\"inner\").show(5)"
   ]
  },
  {
   "cell_type": "code",
   "execution_count": 10,
   "id": "55b756b1-53b2-4ba4-a12e-484da5280f70",
   "metadata": {},
   "outputs": [
    {
     "name": "stdout",
     "output_type": "stream",
     "text": [
      "+--------------+--------------+\n",
      "|Country/Region|Country/Region|\n",
      "+--------------+--------------+\n",
      "|        Brazil|        Brazil|\n",
      "|         India|         India|\n",
      "|        Russia|        Russia|\n",
      "|  South Africa|  South Africa|\n",
      "|        Mexico|        Mexico|\n",
      "|          Peru|          Peru|\n",
      "|         Chile|         Chile|\n",
      "|      Colombia|      Colombia|\n",
      "|         Spain|         Spain|\n",
      "|          Iran|          Iran|\n",
      "|  Saudi Arabia|  Saudi Arabia|\n",
      "|      Pakistan|      Pakistan|\n",
      "|    Bangladesh|    Bangladesh|\n",
      "|         Italy|         Italy|\n",
      "|        Turkey|        Turkey|\n",
      "|     Argentina|     Argentina|\n",
      "|       Germany|       Germany|\n",
      "|        France|        France|\n",
      "|          Iraq|          Iraq|\n",
      "|   Philippines|   Philippines|\n",
      "+--------------+--------------+\n",
      "only showing top 20 rows\n",
      "\n"
     ]
    }
   ],
   "source": [
    "##Joining two dataframes as it is a natural join since both files contain Country/Region\n",
    "worldometer_df = spark.read.csv(\"D:/BL_DI_DE/Database Problem/data/worldometer_data.csv\", header=True, inferSchema=True)\n",
    "join_worldometer_df = country_df.join(\n",
    "    worldometer_df,\n",
    "    country_df[\"Country/Region\"] == worldometer_df[\"Country/Region\"],\n",
    "    \"inner\"\n",
    ")\n",
    "result_df = join_worldometer_df.select(\n",
    "    country_df[\"`Country/Region`\"],\n",
    "    worldometer_df[\"`Country/Region`\"]\n",
    ")    \n",
    "result_df.show()"
   ]
  },
  {
   "cell_type": "code",
   "execution_count": 12,
   "id": "a5218461-aa64-4b3b-a6f8-b118712d33e9",
   "metadata": {},
   "outputs": [
    {
     "name": "stdout",
     "output_type": "stream",
     "text": [
      "+--------------+--------------+--------+---------+----------+---------+------+---------+------+--------------------+----------+---------+------+---------+------+---------+----------+-------------+------------------+---------------------+----------------------+----------------+\n",
      "|Province/State|Country/Region|     Lat|     Long|      Date|Confirmed|Deaths|Recovered|Active|          WHO Region|      Date|Confirmed|Deaths|Recovered|Active|New cases|New deaths|New recovered|Deaths / 100 Cases|Recovered / 100 Cases|Deaths / 100 Recovered|No. of countries|\n",
      "+--------------+--------------+--------+---------+----------+---------+------+---------+------+--------------------+----------+---------+------+---------+------+---------+----------+-------------+------------------+---------------------+----------------------+----------------+\n",
      "|          NULL|   Afghanistan|33.93911|67.709953|2020-01-22|        0|     0|        0|     0|Eastern Mediterra...|2020-01-22|      555|    17|       28|   510|        0|         0|            0|              3.06|                 5.05|                 60.71|               6|\n",
      "|          NULL|       Albania| 41.1533|  20.1683|2020-01-22|        0|     0|        0|     0|              Europe|2020-01-22|      555|    17|       28|   510|        0|         0|            0|              3.06|                 5.05|                 60.71|               6|\n",
      "|          NULL|       Algeria| 28.0339|   1.6596|2020-01-22|        0|     0|        0|     0|              Africa|2020-01-22|      555|    17|       28|   510|        0|         0|            0|              3.06|                 5.05|                 60.71|               6|\n",
      "|          NULL|       Andorra| 42.5063|   1.5218|2020-01-22|        0|     0|        0|     0|              Europe|2020-01-22|      555|    17|       28|   510|        0|         0|            0|              3.06|                 5.05|                 60.71|               6|\n",
      "|          NULL|        Angola|-11.2027|  17.8739|2020-01-22|        0|     0|        0|     0|              Africa|2020-01-22|      555|    17|       28|   510|        0|         0|            0|              3.06|                 5.05|                 60.71|               6|\n",
      "+--------------+--------------+--------+---------+----------+---------+------+---------+------+--------------------+----------+---------+------+---------+------+---------+----------+-------------+------------------+---------------------+----------------------+----------------+\n",
      "only showing top 5 rows\n",
      "\n"
     ]
    }
   ],
   "source": [
    "##joining DATE column of both covid_19_clean_complete & day_wise\n",
    "day_wise_df = spark.read.csv(\"D:/BL_DI_DE/Database Problem/data/day_wise.csv\", header=True, inferSchema=True)\n",
    "\n",
    "join_daywise_df = clean_df.join(\n",
    "    day_wise_df,\n",
    "    clean_df[\"Date\"] == day_wise_df[\"Date\"],\n",
    "    \"inner\"\n",
    ")\n",
    "\n",
    "final_df = join_daywise_df.select(\n",
    "    clean_df[\"Date\"],\n",
    "    day_wise_df[\"Date\"]\n",
    ")\n",
    "join_daywise_df.show(5)"
   ]
  },
  {
   "cell_type": "code",
   "execution_count": 13,
   "id": "8ca592e4-6523-492b-bc03-538cd3d0b70a",
   "metadata": {},
   "outputs": [
    {
     "data": {
      "text/plain": [
       "pyspark.sql.dataframe.DataFrame"
      ]
     },
     "execution_count": 13,
     "metadata": {},
     "output_type": "execute_result"
    }
   ],
   "source": [
    "type(day_wise_df)"
   ]
  },
  {
   "cell_type": "code",
   "execution_count": 15,
   "id": "d6ea105b-33fe-498b-8af4-c8439c255da8",
   "metadata": {},
   "outputs": [
    {
     "name": "stdout",
     "output_type": "stream",
     "text": [
      "country_df: ['Country/Region', 'Confirmed', 'Deaths', 'Recovered', 'Active', 'New cases', 'New deaths', 'New recovered', 'Deaths / 100 Cases', 'Recovered / 100 Cases', 'Deaths / 100 Recovered', 'Confirmed last week', '1 week change', '1 week % increase', 'WHO Region']\n",
      "clean_df: ['Province/State', 'Country/Region', 'Lat', 'Long', 'Date', 'Confirmed', 'Deaths', 'Recovered', 'Active', 'WHO Region']\n",
      "+-------------------+---------------+---------------------+\n",
      "|Country            |Total_Confirmed|WHO_Region           |\n",
      "+-------------------+---------------+---------------------+\n",
      "|Afghanistan        |36263          |Eastern Mediterranean|\n",
      "|Albania            |4880           |Europe               |\n",
      "|Algeria            |27973          |Africa               |\n",
      "|Andorra            |907            |Europe               |\n",
      "|Angola             |950            |Africa               |\n",
      "|Antigua and Barbuda|86             |Americas             |\n",
      "|Argentina          |167416         |Americas             |\n",
      "|Armenia            |37390          |Europe               |\n",
      "|Australia          |15303          |Western Pacific      |\n",
      "|Australia          |15303          |Western Pacific      |\n",
      "+-------------------+---------------+---------------------+\n",
      "only showing top 10 rows\n",
      "\n"
     ]
    }
   ],
   "source": [
    "##INNER JOIN to get region-wise confirmed cases with population\n",
    "print(\"country_df:\", country_df.columns)\n",
    "print(\"clean_df:\", clean_df.columns)\n",
    "\n",
    "joined_df = country_df.join(\n",
    "    clean_df,\n",
    "    country_df[\"`Country/Region`\"] == clean_df[\"`Country/Region`\"],\n",
    "    \"inner\"\n",
    ")\n",
    "\n",
    "result_df = joined_df.select(\n",
    "    country_df[\"`Country/Region`\"].alias(\"Country\"),\n",
    "    country_df[\"Confirmed\"].alias(\"Total_Confirmed\"),\n",
    "    clean_df[\"`WHO Region`\"].alias(\"WHO_Region\")\n",
    ")\n",
    "\n",
    "result_df.show(10, truncate=False)"
   ]
  },
  {
   "cell_type": "code",
   "execution_count": 26,
   "id": "f1305fd5-a28f-4ca3-9472-069e49fdff99",
   "metadata": {},
   "outputs": [
    {
     "name": "stdout",
     "output_type": "stream",
     "text": [
      "+-----------+----------+---------+------+---------+---------------+------------+---------------------+\n",
      "|Country    |Date      |Confirmed|Deaths|Recovered|Total_Confirmed|Total_Deaths|WHO_Region           |\n",
      "+-----------+----------+---------+------+---------+---------------+------------+---------------------+\n",
      "|Afghanistan|2020-07-27|36263    |1269  |25198    |36263          |1269        |Eastern Mediterranean|\n",
      "|Afghanistan|2020-07-26|36157    |1259  |25180    |36263          |1269        |Eastern Mediterranean|\n",
      "|Afghanistan|2020-07-25|36036    |1248  |24793    |36263          |1269        |Eastern Mediterranean|\n",
      "|Afghanistan|2020-07-24|35981    |1225  |24602    |36263          |1269        |Eastern Mediterranean|\n",
      "|Afghanistan|2020-07-23|35928    |1211  |24550    |36263          |1269        |Eastern Mediterranean|\n",
      "|Afghanistan|2020-07-22|35727    |1190  |23924    |36263          |1269        |Eastern Mediterranean|\n",
      "|Afghanistan|2020-07-21|35615    |1186  |23741    |36263          |1269        |Eastern Mediterranean|\n",
      "|Afghanistan|2020-07-20|35526    |1185  |23741    |36263          |1269        |Eastern Mediterranean|\n",
      "|Afghanistan|2020-07-19|35475    |1181  |23634    |36263          |1269        |Eastern Mediterranean|\n",
      "|Afghanistan|2020-07-18|35301    |1164  |23273    |36263          |1269        |Eastern Mediterranean|\n",
      "+-----------+----------+---------+------+---------+---------------+------------+---------------------+\n",
      "only showing top 10 rows\n",
      "\n"
     ]
    }
   ],
   "source": [
    "#Data of all current country-level stats even if clean_df has missing entries\n",
    "left_join_df = country_df.join(\n",
    "    clean_df,\n",
    "    country_df[\"`Country/Region`\"] == clean_df[\"`Country/Region`\"],\n",
    "    \"left\"\n",
    ")\n",
    "\n",
    "structured_df = left_join_df.select(\n",
    "    country_df[\"`Country/Region`\"].alias(\"Country\"),\n",
    "    clean_df[\"Date\"],\n",
    "    clean_df[\"Confirmed\"],\n",
    "    clean_df[\"Deaths\"],\n",
    "    clean_df[\"Recovered\"],\n",
    "    country_df[\"Confirmed\"].alias(\"Total_Confirmed\"),\n",
    "    country_df[\"Deaths\"].alias(\"Total_Deaths\"),\n",
    "    country_df[\"`WHO Region`\"].alias(\"WHO_Region\")\n",
    ")\n",
    "\n",
    "structured_df.show(10, truncate=False)\n"
   ]
  },
  {
   "cell_type": "code",
   "execution_count": 25,
   "id": "72bf958f-a2da-4dfe-990e-ef3c8f74baeb",
   "metadata": {},
   "outputs": [
    {
     "name": "stdout",
     "output_type": "stream",
     "text": [
      "+-------+----------+---------+------+---------+---------------+\n",
      "|Country|Date      |Confirmed|Deaths|Recovered|WHO_Region     |\n",
      "+-------+----------+---------+------+---------+---------------+\n",
      "|India  |2020-06-01|198370   |5608  |95754    |South-East Asia|\n",
      "+-------+----------+---------+------+---------+---------------+\n",
      "\n"
     ]
    }
   ],
   "source": [
    "#FILTER after JOIN\n",
    "filtered_df = country_df.join(\n",
    "    clean_df,\n",
    "    country_df[\"`Country/Region`\"] == clean_df[\"`Country/Region`\"],\n",
    "    \"inner\"\n",
    ").filter(\n",
    "    (country_df[\"`Country/Region`\"] == \"India\") &\n",
    "    (clean_df[\"Date\"] == \"2020-06-01\")\n",
    ")\n",
    "\n",
    "result_df = filtered_df.select(\n",
    "    country_df[\"`Country/Region`\"].alias(\"Country\"),\n",
    "    clean_df[\"Date\"],\n",
    "    clean_df[\"Confirmed\"],\n",
    "    clean_df[\"Deaths\"],\n",
    "    clean_df[\"Recovered\"],\n",
    "    country_df[\"`WHO Region`\"].alias(\"WHO_Region\")\n",
    ")\n",
    "\n",
    "result_df.show(truncate=False)"
   ]
  },
  {
   "cell_type": "code",
   "execution_count": null,
   "id": "e6f2b6e5-387c-4695-83d9-883cbd9620f7",
   "metadata": {},
   "outputs": [],
   "source": []
  }
 ],
 "metadata": {
  "kernelspec": {
   "display_name": "Python 3 (ipykernel)",
   "language": "python",
   "name": "python3"
  },
  "language_info": {
   "codemirror_mode": {
    "name": "ipython",
    "version": 3
   },
   "file_extension": ".py",
   "mimetype": "text/x-python",
   "name": "python",
   "nbconvert_exporter": "python",
   "pygments_lexer": "ipython3",
   "version": "3.10.4"
  }
 },
 "nbformat": 4,
 "nbformat_minor": 5
}
