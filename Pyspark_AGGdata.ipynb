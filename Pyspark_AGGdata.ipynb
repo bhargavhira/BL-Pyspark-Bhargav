{
 "cells": [
  {
   "cell_type": "markdown",
   "id": "d0bea29b-681f-42f4-a23a-5e84877bd0f3",
   "metadata": {},
   "source": [
    "3rd Cell in Notebook - AGG, Dataset Used - COVID 19 DATASET"
   ]
  },
  {
   "cell_type": "code",
   "execution_count": 6,
   "id": "d3f46fb2-3aa6-4b1f-94f3-696a12940e51",
   "metadata": {},
   "outputs": [
    {
     "name": "stdout",
     "output_type": "stream",
     "text": [
      "+--------------------+---------------+------------+---------------+\n",
      "|          WHO Region|Total_Confirmed|Total_Deaths|Total_Recovered|\n",
      "+--------------------+---------------+------------+---------------+\n",
      "|              Europe|        3299523|      211144|        1993723|\n",
      "|     Western Pacific|         292428|        8249|         206770|\n",
      "|              Africa|         723207|       12223|         440645|\n",
      "|Eastern Mediterra...|        1490744|       38339|        1201400|\n",
      "|            Americas|        8839286|      342732|        4468616|\n",
      "|     South-East Asia|        1835297|       41349|        1156933|\n",
      "+--------------------+---------------+------------+---------------+\n",
      "\n"
     ]
    }
   ],
   "source": [
    "#Total confirmed, deaths, and recovered cases by continent\n",
    "from pyspark.sql import SparkSession\n",
    "from pyspark.sql.functions import sum\n",
    "\n",
    "spark = SparkSession.builder.appName(\"CovidAnalysis\").getOrCreate()\n",
    "\n",
    "df_country = spark.read.csv(\"country_wise_latest.csv\", header=True, inferSchema=True)\n",
    "\n",
    "agg_by_region = df_country.groupBy(\"WHO Region\").agg(\n",
    "    sum(\"Confirmed\").alias(\"Total_Confirmed\"),\n",
    "    sum(\"Deaths\").alias(\"Total_Deaths\"),\n",
    "    sum(\"Recovered\").alias(\"Total_Recovered\")\n",
    ")\n",
    "\n",
    "agg_by_region.show()\n",
    "\n",
    "\n"
   ]
  },
  {
   "cell_type": "code",
   "execution_count": 4,
   "id": "04e50dc0-0b66-45db-91da-a8ce76d696ec",
   "metadata": {},
   "outputs": [
    {
     "name": "stdout",
     "output_type": "stream",
     "text": [
      "root\n",
      " |-- Country/Region: string (nullable = true)\n",
      " |-- Confirmed: integer (nullable = true)\n",
      " |-- Deaths: integer (nullable = true)\n",
      " |-- Recovered: integer (nullable = true)\n",
      " |-- Active: integer (nullable = true)\n",
      " |-- New cases: integer (nullable = true)\n",
      " |-- New deaths: integer (nullable = true)\n",
      " |-- New recovered: integer (nullable = true)\n",
      " |-- Deaths / 100 Cases: double (nullable = true)\n",
      " |-- Recovered / 100 Cases: double (nullable = true)\n",
      " |-- Deaths / 100 Recovered: string (nullable = true)\n",
      " |-- Confirmed last week: integer (nullable = true)\n",
      " |-- 1 week change: integer (nullable = true)\n",
      " |-- 1 week % increase: double (nullable = true)\n",
      " |-- WHO Region: string (nullable = true)\n",
      "\n",
      "+--------------+---------+------+---------+------+---------+----------+-------------+------------------+---------------------+----------------------+-------------------+-------------+-----------------+--------------------+\n",
      "|Country/Region|Confirmed|Deaths|Recovered|Active|New cases|New deaths|New recovered|Deaths / 100 Cases|Recovered / 100 Cases|Deaths / 100 Recovered|Confirmed last week|1 week change|1 week % increase|          WHO Region|\n",
      "+--------------+---------+------+---------+------+---------+----------+-------------+------------------+---------------------+----------------------+-------------------+-------------+-----------------+--------------------+\n",
      "|   Afghanistan|    36263|  1269|    25198|  9796|      106|        10|           18|               3.5|                69.49|                  5.04|              35526|          737|             2.07|Eastern Mediterra...|\n",
      "|       Albania|     4880|   144|     2745|  1991|      117|         6|           63|              2.95|                56.25|                  5.25|               4171|          709|             17.0|              Europe|\n",
      "|       Algeria|    27973|  1163|    18837|  7973|      616|         8|          749|              4.16|                67.34|                  6.17|              23691|         4282|            18.07|              Africa|\n",
      "|       Andorra|      907|    52|      803|    52|       10|         0|            0|              5.73|                88.53|                  6.48|                884|           23|              2.6|              Europe|\n",
      "|        Angola|      950|    41|      242|   667|       18|         1|            0|              4.32|                25.47|                 16.94|                749|          201|            26.84|              Africa|\n",
      "+--------------+---------+------+---------+------+---------+----------+-------------+------------------+---------------------+----------------------+-------------------+-------------+-----------------+--------------------+\n",
      "only showing top 5 rows\n",
      "\n"
     ]
    }
   ],
   "source": [
    "df_country.printSchema()\n",
    "df_country.show(5)\n"
   ]
  },
  {
   "cell_type": "code",
   "execution_count": 7,
   "id": "924ed0e1-d516-421b-a41d-715b6438b178",
   "metadata": {},
   "outputs": [
    {
     "name": "stdout",
     "output_type": "stream",
     "text": [
      "+--------------------+------------------+\n",
      "|          WHO Region| Avg_Fatality_Rate|\n",
      "+--------------------+------------------+\n",
      "|              Europe| 4.198392857142857|\n",
      "|     Western Pacific|              1.29|\n",
      "|              Africa| 2.306458333333334|\n",
      "|Eastern Mediterra...|3.5631818181818176|\n",
      "|            Americas|3.0525714285714285|\n",
      "|     South-East Asia|1.2959999999999998|\n",
      "+--------------------+------------------+\n",
      "\n"
     ]
    }
   ],
   "source": [
    "#Average fatality rate by WHO Region\n",
    "from pyspark.sql.functions import avg\n",
    "\n",
    "fatality_rate_by_region = df_country.groupBy(\"WHO Region\").agg(\n",
    "    avg(\"Deaths / 100 Cases\").alias(\"Avg_Fatality_Rate\")\n",
    ")\n",
    "\n",
    "fatality_rate_by_region.show()\n"
   ]
  },
  {
   "cell_type": "code",
   "execution_count": 8,
   "id": "958f44a5-f127-4002-a84d-680c6e9f915a",
   "metadata": {},
   "outputs": [
    {
     "name": "stdout",
     "output_type": "stream",
     "text": [
      "+--------------------+---------------+\n",
      "|          WHO Region|Total_New_Cases|\n",
      "+--------------------+---------------+\n",
      "|              Europe|          22294|\n",
      "|     Western Pacific|           3289|\n",
      "|              Africa|          12176|\n",
      "|Eastern Mediterra...|          12410|\n",
      "|            Americas|         129531|\n",
      "|     South-East Asia|          48993|\n",
      "+--------------------+---------------+\n",
      "\n"
     ]
    }
   ],
   "source": [
    "#Daily New Cases per WHO Region (based on \"New Cases\" column)\n",
    "new_cases_by_region = df_country.groupBy(\"WHO Region\").agg(\n",
    "    sum(\"New cases\").alias(\"Total_New_Cases\")\n",
    ")\n",
    "\n",
    "new_cases_by_region.show()\n"
   ]
  },
  {
   "cell_type": "code",
   "execution_count": 9,
   "id": "cfc6fe46-8ca4-4955-99c4-da9cea245cc0",
   "metadata": {},
   "outputs": [
    {
     "name": "stdout",
     "output_type": "stream",
     "text": [
      "+--------------------+-------------+-------------+-----------------+\n",
      "|          WHO Region|Max_Confirmed|Min_Confirmed|    Avg_Confirmed|\n",
      "+--------------------+-------------+-------------+-----------------+\n",
      "|              Europe|       816680|           12|58920.05357142857|\n",
      "|     Western Pacific|        86783|           20|         18276.75|\n",
      "|              Africa|       452529|           10|       15066.8125|\n",
      "|Eastern Mediterra...|       293606|          674|67761.09090909091|\n",
      "|            Americas|      4290259|           17|252551.0285714286|\n",
      "|     South-East Asia|      1480073|           24|         183529.7|\n",
      "+--------------------+-------------+-------------+-----------------+\n",
      "\n"
     ]
    }
   ],
   "source": [
    "#Max, Min, and Average Confirmed Cases per WHO Region\n",
    "from pyspark.sql.functions import max, min, avg\n",
    "\n",
    "confirmed_stats_by_region = df_country.groupBy(\"WHO Region\").agg(\n",
    "    max(\"Confirmed\").alias(\"Max_Confirmed\"),\n",
    "    min(\"Confirmed\").alias(\"Min_Confirmed\"),\n",
    "    avg(\"Confirmed\").alias(\"Avg_Confirmed\")\n",
    ")\n",
    "\n",
    "confirmed_stats_by_region.show()\n"
   ]
  },
  {
   "cell_type": "code",
   "execution_count": 10,
   "id": "36c60c44-086a-4210-9ce4-09f393f1b182",
   "metadata": {},
   "outputs": [
    {
     "name": "stdout",
     "output_type": "stream",
     "text": [
      "+--------------------+------------------+\n",
      "|          WHO Region|Total_Active_Cases|\n",
      "+--------------------+------------------+\n",
      "|              Europe|           1094656|\n",
      "|     Western Pacific|             77409|\n",
      "|              Africa|            270339|\n",
      "|Eastern Mediterra...|            251005|\n",
      "|            Americas|           4027938|\n",
      "|     South-East Asia|            637015|\n",
      "+--------------------+------------------+\n",
      "\n"
     ]
    }
   ],
   "source": [
    "#Total Active Cases by WHO Region\n",
    "active_by_region = df_country.groupBy(\"WHO Region\").agg(\n",
    "    sum(\"Active\").alias(\"Total_Active_Cases\")\n",
    ")\n",
    "\n",
    "active_by_region.show()\n"
   ]
  },
  {
   "cell_type": "code",
   "execution_count": 11,
   "id": "cd4e260c-af86-43c8-a388-ae0c96575af8",
   "metadata": {},
   "outputs": [
    {
     "name": "stdout",
     "output_type": "stream",
     "text": [
      "+--------------------+-----------------+\n",
      "|          WHO Region|Avg_Recovery_Rate|\n",
      "+--------------------+-----------------+\n",
      "|     Western Pacific|           76.805|\n",
      "|              Europe|68.63499999999998|\n",
      "|     South-East Asia|66.70400000000001|\n",
      "|Eastern Mediterra...|66.59318181818182|\n",
      "|            Americas|62.29142857142857|\n",
      "+--------------------+-----------------+\n",
      "only showing top 5 rows\n",
      "\n"
     ]
    }
   ],
   "source": [
    "# Top 5 WHO Regions by Recovery Rate\n",
    "from pyspark.sql.functions import avg\n",
    "\n",
    "recovery_rate_by_region = df_country.groupBy(\"WHO Region\").agg(\n",
    "    avg(\"Recovered / 100 Cases\").alias(\"Avg_Recovery_Rate\")\n",
    ")\n",
    "\n",
    "recovery_rate_by_region.orderBy(\"Avg_Recovery_Rate\", ascending=False).show(5)\n"
   ]
  },
  {
   "cell_type": "code",
   "execution_count": 12,
   "id": "f7718a20-2dc4-49a4-aee4-4326eac9b298",
   "metadata": {},
   "outputs": [
    {
     "name": "stdout",
     "output_type": "stream",
     "text": [
      "+--------------------+----------------+\n",
      "|          WHO Region|Total_New_Deaths|\n",
      "+--------------------+----------------+\n",
      "|              Europe|             304|\n",
      "|     Western Pacific|              24|\n",
      "|              Africa|             353|\n",
      "|Eastern Mediterra...|             445|\n",
      "|            Americas|            3555|\n",
      "|     South-East Asia|             734|\n",
      "+--------------------+----------------+\n",
      "\n"
     ]
    }
   ],
   "source": [
    "#Sum of New Deaths by WHO Region\n",
    "new_deaths_by_region = df_country.groupBy(\"WHO Region\").agg(\n",
    "    sum(\"New deaths\").alias(\"Total_New_Deaths\")\n",
    ")\n",
    "\n",
    "new_deaths_by_region.show()\n"
   ]
  },
  {
   "cell_type": "code",
   "execution_count": 13,
   "id": "13586a80-23d2-49fa-b9ba-b7936eb5f4bc",
   "metadata": {},
   "outputs": [
    {
     "name": "stdout",
     "output_type": "stream",
     "text": [
      "+--------------+---------------------+\n",
      "|Country/Region|DeathsPer100Recovered|\n",
      "+--------------+---------------------+\n",
      "|        Canada|             Infinity|\n",
      "|    Mozambique|             Infinity|\n",
      "|        Serbia|             Infinity|\n",
      "|        Sweden|             Infinity|\n",
      "|         Syria|             Infinity|\n",
      "|   Netherlands|              3259.26|\n",
      "|United Kingdom|              3190.26|\n",
      "|         Yemen|                57.98|\n",
      "|       Belgium|                56.28|\n",
      "|        France|                 37.2|\n",
      "+--------------+---------------------+\n",
      "only showing top 10 rows\n",
      "\n"
     ]
    }
   ],
   "source": [
    "#Countries with Highest Deaths / 100 Recovered Ratio\n",
    "from pyspark.sql.functions import col\n",
    "\n",
    "df_clean = df_country.withColumn(\"DeathsPer100Recovered\", col(\"Deaths / 100 Recovered\").cast(\"double\"))\n",
    "\n",
    "highest_deaths_per_recovered = df_clean.select(\"Country/Region\", \"DeathsPer100Recovered\") \\\n",
    "    .orderBy(\"DeathsPer100Recovered\", ascending=False)\n",
    "\n",
    "highest_deaths_per_recovered.show(10)\n"
   ]
  },
  {
   "cell_type": "code",
   "execution_count": 14,
   "id": "2d756651-61ce-4e1b-9c52-8577286066c6",
   "metadata": {},
   "outputs": [
    {
     "name": "stdout",
     "output_type": "stream",
     "text": [
      "+--------------------+------------------+\n",
      "|          WHO Region|Weekly_Case_Change|\n",
      "+--------------------+------------------+\n",
      "|            Americas|           1024088|\n",
      "|     South-East Asia|            357014|\n",
      "|              Europe|            152707|\n",
      "|              Africa|            115087|\n",
      "|Eastern Mediterra...|             91897|\n",
      "|     Western Pacific|             26069|\n",
      "+--------------------+------------------+\n",
      "\n"
     ]
    }
   ],
   "source": [
    "#Total Weekly Increase by WHO Region\n",
    "weekly_increase = df_country.groupBy(\"WHO Region\").agg(\n",
    "    sum(\"1 week change\").alias(\"Weekly_Case_Change\")\n",
    ")\n",
    "\n",
    "weekly_increase.orderBy(\"Weekly_Case_Change\", ascending=False).show()\n"
   ]
  },
  {
   "cell_type": "code",
   "execution_count": 15,
   "id": "2cb66b48-5992-4a40-8a83-e9f0f6b0c25a",
   "metadata": {},
   "outputs": [
    {
     "name": "stdout",
     "output_type": "stream",
     "text": [
      "+--------------------+---------------------------+\n",
      "|          WHO Region|Avg_Weekly_Percent_Increase|\n",
      "+--------------------+---------------------------+\n",
      "|     Western Pacific|                   22.11125|\n",
      "|              Africa|         18.086458333333333|\n",
      "|            Americas|         16.331142857142854|\n",
      "|Eastern Mediterra...|          10.48227272727273|\n",
      "|     South-East Asia|          8.513000000000002|\n",
      "|              Europe|          7.769642857142861|\n",
      "+--------------------+---------------------------+\n",
      "\n"
     ]
    }
   ],
   "source": [
    "#Average Weekly Percentage Increase by WHO Region\n",
    "avg_weekly_growth = df_country.groupBy(\"WHO Region\").agg(\n",
    "    avg(\"1 week % increase\").alias(\"Avg_Weekly_Percent_Increase\")\n",
    ")\n",
    "\n",
    "avg_weekly_growth.orderBy(\"Avg_Weekly_Percent_Increase\", ascending=False).show()\n"
   ]
  }
 ],
 "metadata": {
  "kernelspec": {
   "display_name": "Python 3 (ipykernel)",
   "language": "python",
   "name": "python3"
  },
  "language_info": {
   "codemirror_mode": {
    "name": "ipython",
    "version": 3
   },
   "file_extension": ".py",
   "mimetype": "text/x-python",
   "name": "python",
   "nbconvert_exporter": "python",
   "pygments_lexer": "ipython3",
   "version": "3.10.4"
  }
 },
 "nbformat": 4,
 "nbformat_minor": 5
}
